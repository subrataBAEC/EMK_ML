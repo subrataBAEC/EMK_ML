{
 "cells": [
  {
   "cell_type": "markdown",
   "metadata": {
    "id": "Ws2KB6e1urpT"
   },
   "source": [
    "# Volkswagen_used_car_EDA\n",
    "- submited by: Subrata Saha\n",
    "- Date: 25.02.2022\n",
    "\n",
    "\n",
    "#### Contents:\n",
    "-  Read dataset and EDA. \n",
    "- Bar plot and pie chart of transmission column. \n",
    "- Bar plot and pie chart of fuelType column. "
   ]
  },
  {
   "cell_type": "markdown",
   "metadata": {
    "id": "bosmZEHgurpW"
   },
   "source": [
    "#### 1. Import required libraries and packages"
   ]
  },
  {
   "cell_type": "code",
   "execution_count": 1,
   "metadata": {
    "id": "qkvum6aYurpX"
   },
   "outputs": [],
   "source": [
    "# for data analysis\n",
    "import numpy as np\n",
    "import pandas as pd\n",
    "\n",
    "# for data visualization\n",
    "import matplotlib.pyplot as plt\n",
    "import seaborn as sns"
   ]
  },
  {
   "cell_type": "markdown",
   "metadata": {
    "id": "TfA6a-t7urpX"
   },
   "source": [
    "#### 2. Read dataset"
   ]
  },
  {
   "cell_type": "code",
   "execution_count": 2,
   "metadata": {
    "id": "ttXFEapOurpY",
    "outputId": "3d7b5c98-41b3-43b1-d4ff-b073878a65f9"
   },
   "outputs": [
    {
     "data": {
      "text/html": [
       "<div>\n",
       "<style scoped>\n",
       "    .dataframe tbody tr th:only-of-type {\n",
       "        vertical-align: middle;\n",
       "    }\n",
       "\n",
       "    .dataframe tbody tr th {\n",
       "        vertical-align: top;\n",
       "    }\n",
       "\n",
       "    .dataframe thead th {\n",
       "        text-align: right;\n",
       "    }\n",
       "</style>\n",
       "<table border=\"1\" class=\"dataframe\">\n",
       "  <thead>\n",
       "    <tr style=\"text-align: right;\">\n",
       "      <th></th>\n",
       "      <th>model</th>\n",
       "      <th>year</th>\n",
       "      <th>price</th>\n",
       "      <th>transmission</th>\n",
       "      <th>mileage</th>\n",
       "      <th>fuelType</th>\n",
       "      <th>mpg</th>\n",
       "      <th>engineSize</th>\n",
       "    </tr>\n",
       "  </thead>\n",
       "  <tbody>\n",
       "    <tr>\n",
       "      <th>8706</th>\n",
       "      <td>Polo</td>\n",
       "      <td>2018</td>\n",
       "      <td>11650</td>\n",
       "      <td>Manual</td>\n",
       "      <td>13853</td>\n",
       "      <td>Petrol</td>\n",
       "      <td>60.1</td>\n",
       "      <td>1.0</td>\n",
       "    </tr>\n",
       "    <tr>\n",
       "      <th>4354</th>\n",
       "      <td>Golf</td>\n",
       "      <td>2020</td>\n",
       "      <td>23999</td>\n",
       "      <td>Manual</td>\n",
       "      <td>500</td>\n",
       "      <td>Petrol</td>\n",
       "      <td>47.1</td>\n",
       "      <td>1.5</td>\n",
       "    </tr>\n",
       "    <tr>\n",
       "      <th>14348</th>\n",
       "      <td>Touran</td>\n",
       "      <td>2016</td>\n",
       "      <td>16499</td>\n",
       "      <td>Semi-Auto</td>\n",
       "      <td>24230</td>\n",
       "      <td>Diesel</td>\n",
       "      <td>64.2</td>\n",
       "      <td>1.6</td>\n",
       "    </tr>\n",
       "    <tr>\n",
       "      <th>4684</th>\n",
       "      <td>Golf</td>\n",
       "      <td>2017</td>\n",
       "      <td>12600</td>\n",
       "      <td>Semi-Auto</td>\n",
       "      <td>33698</td>\n",
       "      <td>Diesel</td>\n",
       "      <td>68.9</td>\n",
       "      <td>1.6</td>\n",
       "    </tr>\n",
       "    <tr>\n",
       "      <th>10203</th>\n",
       "      <td>Tiguan</td>\n",
       "      <td>2018</td>\n",
       "      <td>19495</td>\n",
       "      <td>Manual</td>\n",
       "      <td>7160</td>\n",
       "      <td>Petrol</td>\n",
       "      <td>46.3</td>\n",
       "      <td>1.4</td>\n",
       "    </tr>\n",
       "  </tbody>\n",
       "</table>\n",
       "</div>"
      ],
      "text/plain": [
       "         model  year  price transmission  mileage fuelType   mpg  engineSize\n",
       "8706      Polo  2018  11650       Manual    13853   Petrol  60.1         1.0\n",
       "4354      Golf  2020  23999       Manual      500   Petrol  47.1         1.5\n",
       "14348   Touran  2016  16499    Semi-Auto    24230   Diesel  64.2         1.6\n",
       "4684      Golf  2017  12600    Semi-Auto    33698   Diesel  68.9         1.6\n",
       "10203   Tiguan  2018  19495       Manual     7160   Petrol  46.3         1.4"
      ]
     },
     "metadata": {},
     "output_type": "display_data"
    }
   ],
   "source": [
    "df = pd.read_csv(\"vw.csv\")\n",
    "\n",
    "#display(df.head())\n",
    "# show 5 sample observations\n",
    "display(df.sample(5))"
   ]
  },
  {
   "cell_type": "markdown",
   "metadata": {
    "id": "MBbdvhogurpY"
   },
   "source": [
    "#### 3. Check for missing values, data types of the columns"
   ]
  },
  {
   "cell_type": "code",
   "execution_count": 3,
   "metadata": {
    "id": "kcc-lH-HurpY",
    "outputId": "edc5bb4f-f836-4112-cf8d-23cf5b7c8426"
   },
   "outputs": [
    {
     "name": "stdout",
     "output_type": "stream",
     "text": [
      "<class 'pandas.core.frame.DataFrame'>\n",
      "RangeIndex: 15157 entries, 0 to 15156\n",
      "Data columns (total 8 columns):\n",
      " #   Column        Non-Null Count  Dtype  \n",
      "---  ------        --------------  -----  \n",
      " 0   model         15157 non-null  object \n",
      " 1   year          15157 non-null  int64  \n",
      " 2   price         15157 non-null  int64  \n",
      " 3   transmission  15157 non-null  object \n",
      " 4   mileage       15157 non-null  int64  \n",
      " 5   fuelType      15157 non-null  object \n",
      " 6   mpg           15157 non-null  float64\n",
      " 7   engineSize    15157 non-null  float64\n",
      "dtypes: float64(2), int64(3), object(3)\n",
      "memory usage: 947.4+ KB\n"
     ]
    }
   ],
   "source": [
    "df.info()\n",
    "\n",
    "# Nan - not a number"
   ]
  },
  {
   "cell_type": "code",
   "execution_count": 4,
   "metadata": {
    "id": "Dq2Og7lpA0Ap",
    "outputId": "85bb90b0-cd36-448e-8af1-6f68760eca73"
   },
   "outputs": [
    {
     "name": "stdout",
     "output_type": "stream",
     "text": [
      "(15157, 8)\n",
      "number of rows =  15157\n",
      "number of columns =  8\n"
     ]
    }
   ],
   "source": [
    "print(df.shape)\n",
    "\n",
    "print(\"number of rows = \", df.shape[0])\n",
    "print(\"number of columns = \", df.shape[1])"
   ]
  },
  {
   "cell_type": "markdown",
   "metadata": {
    "id": "EKKv7r4DurpZ"
   },
   "source": [
    "#### Count the number of unique values present in the 'year' column"
   ]
  },
  {
   "cell_type": "code",
   "execution_count": 5,
   "metadata": {
    "id": "Po05cr07urpZ",
    "outputId": "06ed6a36-7fca-4c06-94b5-8239c2def774"
   },
   "outputs": [
    {
     "name": "stdout",
     "output_type": "stream",
     "text": [
      "[2019 2020 2018 2017 2015 2016 2013 2014 2009 2010 2004 2003 2012 2011\n",
      " 2008 2000 2006 2002 2005 2007 2001]\n",
      "21\n",
      "2019    4669\n",
      "2017    2947\n",
      "2016    2647\n",
      "2018    1509\n",
      "2015    1153\n",
      "2020    1046\n",
      "2014     580\n",
      "2013     315\n",
      "2012      80\n",
      "2011      57\n",
      "2010      41\n",
      "2009      31\n",
      "2008      27\n",
      "2007      20\n",
      "2006      16\n",
      "2005       8\n",
      "2001       4\n",
      "2004       3\n",
      "2003       2\n",
      "2002       1\n",
      "2000       1\n",
      "Name: year, dtype: int64\n"
     ]
    }
   ],
   "source": [
    "print(df[\"year\"].unique())\n",
    "\n",
    "print(len(df[\"year\"].unique()))\n",
    "\n",
    "#print(df[\"year\"].values)\n",
    "print(df[\"year\"].value_counts())"
   ]
  },
  {
   "cell_type": "markdown",
   "metadata": {
    "id": "mW-mfyDVurpZ"
   },
   "source": [
    "#### Count the number of unique values present in the 'model' column"
   ]
  },
  {
   "cell_type": "code",
   "execution_count": 6,
   "metadata": {
    "id": "nAYqdWUEurpa",
    "outputId": "68d7318c-8c74-441e-dc32-5755c49f26d4"
   },
   "outputs": [
    {
     "name": "stdout",
     "output_type": "stream",
     "text": [
      " Golf               4863\n",
      " Polo               3287\n",
      " Tiguan             1765\n",
      " Passat              915\n",
      " Up                  884\n",
      " T-Roc               733\n",
      " Touareg             363\n",
      " Touran              352\n",
      " T-Cross             300\n",
      " Golf SV             268\n",
      " Sharan              260\n",
      " Arteon              248\n",
      " Scirocco            242\n",
      " Amarok              111\n",
      " Caravelle           101\n",
      " CC                   95\n",
      " Tiguan Allspace      91\n",
      " Beetle               83\n",
      " Shuttle              61\n",
      " Caddy Maxi Life      59\n",
      " Jetta                32\n",
      " California           15\n",
      " Caddy Life            8\n",
      " Eos                   7\n",
      " Caddy                 6\n",
      " Caddy Maxi            4\n",
      " Fox                   4\n",
      "Name: model, dtype: int64\n"
     ]
    }
   ],
   "source": [
    "print(df[\"model\"].value_counts())"
   ]
  },
  {
   "cell_type": "markdown",
   "metadata": {
    "id": "Ztjr_zuturpa"
   },
   "source": [
    "#### Count the number of unique values present in the 'transmission' column"
   ]
  },
  {
   "cell_type": "code",
   "execution_count": 7,
   "metadata": {
    "id": "1dJ0JQkCurpa",
    "outputId": "db6edf3f-3b71-40f1-9d13-3234e7d2b271"
   },
   "outputs": [
    {
     "name": "stdout",
     "output_type": "stream",
     "text": [
      "Manual       9417\n",
      "Semi-Auto    3780\n",
      "Automatic    1960\n",
      "Name: transmission, dtype: int64\n"
     ]
    }
   ],
   "source": [
    "print(df[\"transmission\"].value_counts())"
   ]
  },
  {
   "cell_type": "markdown",
   "metadata": {
    "id": "Oppa4Rc7urpb"
   },
   "source": [
    "#### Count the number of unique values present in the 'engineSize' column"
   ]
  },
  {
   "cell_type": "code",
   "execution_count": 8,
   "metadata": {
    "id": "a4TWc6ynurpb",
    "outputId": "bdd17cfa-c2d3-44fb-83ef-3ef1877c32cd"
   },
   "outputs": [
    {
     "name": "stdout",
     "output_type": "stream",
     "text": [
      "2.0    5570\n",
      "1.0    3121\n",
      "1.6    1629\n",
      "1.4    1536\n",
      "1.5    1446\n",
      "1.2    1304\n",
      "3.0     450\n",
      "1.8      77\n",
      "0.0      15\n",
      "1.9       4\n",
      "2.5       3\n",
      "3.2       2\n",
      "Name: engineSize, dtype: int64\n"
     ]
    }
   ],
   "source": [
    "print(df[\"engineSize\"].value_counts())"
   ]
  },
  {
   "cell_type": "markdown",
   "metadata": {},
   "source": [
    "#### Count the number of unique values present in the 'fuelType' column"
   ]
  },
  {
   "cell_type": "code",
   "execution_count": 9,
   "metadata": {},
   "outputs": [
    {
     "name": "stdout",
     "output_type": "stream",
     "text": [
      "Petrol    8553\n",
      "Diesel    6372\n",
      "Hybrid     145\n",
      "Other       87\n",
      "Name: fuelType, dtype: int64\n"
     ]
    }
   ],
   "source": [
    "print(df[\"fuelType\"].value_counts())"
   ]
  },
  {
   "cell_type": "markdown",
   "metadata": {
    "id": "3poKJKK-urpb"
   },
   "source": [
    "#### 4. Pie Chart and Bar plot on transmission column"
   ]
  },
  {
   "cell_type": "markdown",
   "metadata": {},
   "source": [
    "#### 4.1. Pie Chart on 'transmission' column"
   ]
  },
  {
   "cell_type": "code",
   "execution_count": 10,
   "metadata": {
    "id": "L_VXEJqRurpb",
    "outputId": "1afd8e07-5fe6-4bad-d551-a2a4276f7644"
   },
   "outputs": [
    {
     "data": {
      "image/png": "[encoded data removed]",
      "text/plain": [
       "<Figure size 432x288 with 1 Axes>"
      ]
     },
     "metadata": {},
     "output_type": "display_data"
    }
   ],
   "source": [
    "df[\"transmission\"].value_counts().plot(kind=\"pie\", \n",
    "                                       autopct='%1.1f%%', \n",
    "                                       startangle=180)\n",
    "plt.ylabel(\"\")\n",
    "plt.show()"
   ]
  },
  {
   "cell_type": "markdown",
   "metadata": {},
   "source": [
    "#### 4.2.  Bar plot on 'transmission' column"
   ]
  },
  {
   "cell_type": "code",
   "execution_count": 11,
   "metadata": {
    "id": "BgYHwf5durpc",
    "outputId": "19dc48fd-b46a-461a-9f63-6be3a6d59aee"
   },
   "outputs": [
    {
     "name": "stdout",
     "output_type": "stream",
     "text": [
      "Manual       9417\n",
      "Semi-Auto    3780\n",
      "Automatic    1960\n",
      "Name: transmission, dtype: int64\n",
      "<class 'pandas.core.series.Series'>\n"
     ]
    },
    {
     "data": {
      "text/html": [
       "<div>\n",
       "<style scoped>\n",
       "    .dataframe tbody tr th:only-of-type {\n",
       "        vertical-align: middle;\n",
       "    }\n",
       "\n",
       "    .dataframe tbody tr th {\n",
       "        vertical-align: top;\n",
       "    }\n",
       "\n",
       "    .dataframe thead th {\n",
       "        text-align: right;\n",
       "    }\n",
       "</style>\n",
       "<table border=\"1\" class=\"dataframe\">\n",
       "  <thead>\n",
       "    <tr style=\"text-align: right;\">\n",
       "      <th></th>\n",
       "      <th>transmission</th>\n",
       "    </tr>\n",
       "  </thead>\n",
       "  <tbody>\n",
       "    <tr>\n",
       "      <th>Manual</th>\n",
       "      <td>9417</td>\n",
       "    </tr>\n",
       "    <tr>\n",
       "      <th>Semi-Auto</th>\n",
       "      <td>3780</td>\n",
       "    </tr>\n",
       "    <tr>\n",
       "      <th>Automatic</th>\n",
       "      <td>1960</td>\n",
       "    </tr>\n",
       "  </tbody>\n",
       "</table>\n",
       "</div>"
      ],
      "text/plain": [
       "           transmission\n",
       "Manual             9417\n",
       "Semi-Auto          3780\n",
       "Automatic          1960"
      ]
     },
     "metadata": {},
     "output_type": "display_data"
    },
    {
     "name": "stdout",
     "output_type": "stream",
     "text": [
      "Index(['Manual', 'Semi-Auto', 'Automatic'], dtype='object')\n",
      "Index(['transmission'], dtype='object')\n"
     ]
    }
   ],
   "source": [
    "print(df[\"transmission\"].value_counts())\n",
    "\n",
    "print(type(df[\"transmission\"].value_counts()))\n",
    "\n",
    "# convert to dataframe\n",
    "df_transmission = pd.DataFrame(df[\"transmission\"].value_counts())\n",
    "\n",
    "display(df_transmission.head())\n",
    "print(df_transmission.index)\n",
    "print(df_transmission.columns)"
   ]
  },
  {
   "cell_type": "code",
   "execution_count": 12,
   "metadata": {
    "id": "Cl3ErPevA0Au",
    "outputId": "8fc3eaff-a4fa-4d49-ccfc-79c593afa879"
   },
   "outputs": [
    {
     "data": {
      "text/html": [
       "<div>\n",
       "<style scoped>\n",
       "    .dataframe tbody tr th:only-of-type {\n",
       "        vertical-align: middle;\n",
       "    }\n",
       "\n",
       "    .dataframe tbody tr th {\n",
       "        vertical-align: top;\n",
       "    }\n",
       "\n",
       "    .dataframe thead th {\n",
       "        text-align: right;\n",
       "    }\n",
       "</style>\n",
       "<table border=\"1\" class=\"dataframe\">\n",
       "  <thead>\n",
       "    <tr style=\"text-align: right;\">\n",
       "      <th></th>\n",
       "      <th>transmission</th>\n",
       "      <th>no_of_cars</th>\n",
       "      <th>% of cars</th>\n",
       "    </tr>\n",
       "  </thead>\n",
       "  <tbody>\n",
       "    <tr>\n",
       "      <th>0</th>\n",
       "      <td>Manual</td>\n",
       "      <td>9417</td>\n",
       "      <td>62.13</td>\n",
       "    </tr>\n",
       "    <tr>\n",
       "      <th>1</th>\n",
       "      <td>Semi-Auto</td>\n",
       "      <td>3780</td>\n",
       "      <td>24.94</td>\n",
       "    </tr>\n",
       "    <tr>\n",
       "      <th>2</th>\n",
       "      <td>Automatic</td>\n",
       "      <td>1960</td>\n",
       "      <td>12.93</td>\n",
       "    </tr>\n",
       "  </tbody>\n",
       "</table>\n",
       "</div>"
      ],
      "text/plain": [
       "  transmission  no_of_cars  % of cars\n",
       "0       Manual        9417      62.13\n",
       "1    Semi-Auto        3780      24.94\n",
       "2    Automatic        1960      12.93"
      ]
     },
     "metadata": {},
     "output_type": "display_data"
    }
   ],
   "source": [
    "df_transmission = pd.DataFrame(df[\"transmission\"].value_counts())\n",
    "df_transmission = df_transmission.reset_index()\n",
    "df_transmission = df_transmission.rename(columns={\"index\":\"transmission\",\n",
    "                                          \"transmission\":\"no_of_cars\"})\n",
    "\n",
    "df_transmission[\"% of cars\"] = (df_transmission[\"no_of_cars\"]/df.shape[0])*100\n",
    "\n",
    "df_transmission = df_transmission.round(2)\n",
    "\n",
    "# df_transmission = np.round(df_transmission, 2)\n",
    "\n",
    "display(df_transmission)"
   ]
  },
  {
   "cell_type": "markdown",
   "metadata": {
    "id": "Z2iMqPV4urpc"
   },
   "source": [
    "#### Create a Barplot for the 'transmission' column"
   ]
  },
  {
   "cell_type": "code",
   "execution_count": 13,
   "metadata": {
    "id": "Pp_RZ1dJurpc",
    "outputId": "57675b47-7d14-4ed3-d3fc-e3cb1a613ce6"
   },
   "outputs": [
    {
     "data": {
      "image/png": "[encoded data removed]",
      "text/plain": [
       "<Figure size 432x288 with 1 Axes>"
      ]
     },
     "metadata": {
      "needs_background": "light"
     },
     "output_type": "display_data"
    }
   ],
   "source": [
    "plt.figure(figsize=(6, 4))\n",
    "sns.barplot(x=\"transmission\", \n",
    "            y=\"% of cars\", \n",
    "            data=df_transmission, \n",
    "            color=\"blue\",\n",
    "            alpha=0.7)\n",
    "\n",
    "plt.xlabel(\"Types of transmissions\")\n",
    "plt.ylabel(\"% of cars\")\n",
    "plt.title(\"Percentage of cars present in each transmission\")\n",
    "\n",
    "plt.yticks(np.arange(0,101,10))\n",
    "\n",
    "plt.show()"
   ]
  },
  {
   "cell_type": "code",
   "execution_count": 14,
   "metadata": {},
   "outputs": [
    {
     "data": {
      "image/png": "[encoded data removed]",
      "text/plain": [
       "<Figure size 576x432 with 1 Axes>"
      ]
     },
     "metadata": {
      "needs_background": "light"
     },
     "output_type": "display_data"
    }
   ],
   "source": [
    "# using annotations\n",
    "\n",
    "plt.figure(figsize=(8, 6))\n",
    "splot=sns.barplot(x=\"transmission\",y=\"% of cars\",data=df_transmission,color=\"blue\",alpha=0.7)\n",
    "for p in splot.patches:\n",
    "    splot.annotate(format(p.get_height(), '.1f'), \n",
    "                   (p.get_x() + p.get_width() / 2., p.get_height()), \n",
    "                   ha = 'center', va = 'center', \n",
    "                   xytext = (0, 9), \n",
    "                   textcoords = 'offset points')\n",
    "plt.xlabel(\"Types of transmissions\")\n",
    "plt.ylabel(\"% of cars\")\n",
    "plt.title(\"Percentage of cars present in each transmission\")\n",
    "plt.show()"
   ]
  },
  {
   "cell_type": "markdown",
   "metadata": {},
   "source": [
    " <br> **NOTE**: From Barplot and pie chart of the transmission column, we can notice that, More than half of the cars have Manual transmission and, almost 13% cars have automatic transmission which is the lowest among the three types of transmissions."
   ]
  },
  {
   "cell_type": "markdown",
   "metadata": {},
   "source": [
    "#### 5. Pie Chart and Bar plot on fuelType column"
   ]
  },
  {
   "cell_type": "markdown",
   "metadata": {},
   "source": [
    "#### 5.1. Pie Chart on 'fuelType' column"
   ]
  },
  {
   "cell_type": "code",
   "execution_count": 15,
   "metadata": {},
   "outputs": [
    {
     "data": {
      "image/png": "[encoded data removed]",
      "text/plain": [
       "<Figure size 432x288 with 1 Axes>"
      ]
     },
     "metadata": {},
     "output_type": "display_data"
    }
   ],
   "source": [
    "df[\"fuelType\"].value_counts().plot(kind=\"pie\", \n",
    "                                       autopct='%1.1f%%', \n",
    "                                       startangle=180)\n",
    "plt.ylabel(\"\")\n",
    "plt.show()"
   ]
  },
  {
   "cell_type": "markdown",
   "metadata": {},
   "source": [
    " <br> **NOTE**: From pie chart of the fuelType column, we can notice that, More than half of the cars uses petrol as fuel.\n",
    " one problem with pie chart is that 'hybrid' and 'other' fuel type is indistinguishable,so we need another type of visualization."
   ]
  },
  {
   "cell_type": "markdown",
   "metadata": {},
   "source": [
    "#### 5.2.  Bar plot on 'fuelType' column"
   ]
  },
  {
   "cell_type": "markdown",
   "metadata": {
    "id": "e9opv3zourpd"
   },
   "source": [
    "#### Find the percentage of unique values present in the 'fuelType' column"
   ]
  },
  {
   "cell_type": "code",
   "execution_count": 16,
   "metadata": {
    "id": "2RN3zOprurpd",
    "outputId": "ed6f7751-fd8e-49b2-e003-f8c66fb54c90"
   },
   "outputs": [
    {
     "data": {
      "text/html": [
       "<div>\n",
       "<style scoped>\n",
       "    .dataframe tbody tr th:only-of-type {\n",
       "        vertical-align: middle;\n",
       "    }\n",
       "\n",
       "    .dataframe tbody tr th {\n",
       "        vertical-align: top;\n",
       "    }\n",
       "\n",
       "    .dataframe thead th {\n",
       "        text-align: right;\n",
       "    }\n",
       "</style>\n",
       "<table border=\"1\" class=\"dataframe\">\n",
       "  <thead>\n",
       "    <tr style=\"text-align: right;\">\n",
       "      <th></th>\n",
       "      <th>fuelType</th>\n",
       "      <th>no_of_cars</th>\n",
       "      <th>% of cars</th>\n",
       "    </tr>\n",
       "  </thead>\n",
       "  <tbody>\n",
       "    <tr>\n",
       "      <th>0</th>\n",
       "      <td>Petrol</td>\n",
       "      <td>8553</td>\n",
       "      <td>56.43</td>\n",
       "    </tr>\n",
       "    <tr>\n",
       "      <th>1</th>\n",
       "      <td>Diesel</td>\n",
       "      <td>6372</td>\n",
       "      <td>42.04</td>\n",
       "    </tr>\n",
       "    <tr>\n",
       "      <th>2</th>\n",
       "      <td>Hybrid</td>\n",
       "      <td>145</td>\n",
       "      <td>0.96</td>\n",
       "    </tr>\n",
       "    <tr>\n",
       "      <th>3</th>\n",
       "      <td>Other</td>\n",
       "      <td>87</td>\n",
       "      <td>0.57</td>\n",
       "    </tr>\n",
       "  </tbody>\n",
       "</table>\n",
       "</div>"
      ],
      "text/plain": [
       "  fuelType  no_of_cars  % of cars\n",
       "0   Petrol        8553      56.43\n",
       "1   Diesel        6372      42.04\n",
       "2   Hybrid         145       0.96\n",
       "3    Other          87       0.57"
      ]
     },
     "metadata": {},
     "output_type": "display_data"
    }
   ],
   "source": [
    "df_fuelType = pd.DataFrame(df[\"fuelType\"].value_counts())\n",
    "df_fuelType = df_fuelType.reset_index()\n",
    "df_fuelType = df_fuelType.rename(columns={\"index\":\"fuelType\",\n",
    "                                          \"fuelType\":\"no_of_cars\"})\n",
    "\n",
    "df_fuelType[\"% of cars\"] = (df_fuelType[\"no_of_cars\"]/df.shape[0])*100\n",
    "\n",
    "df_fuelType = df_fuelType.round(2)\n",
    "\n",
    "display(df_fuelType)"
   ]
  },
  {
   "cell_type": "markdown",
   "metadata": {
    "id": "sDFAveUSurpd"
   },
   "source": [
    "#### Create a Barplot for the 'fuelType' column"
   ]
  },
  {
   "cell_type": "code",
   "execution_count": 17,
   "metadata": {
    "id": "SDV561NJurpd",
    "outputId": "ce532eaa-7114-493b-dd9c-f709e16ef56f"
   },
   "outputs": [
    {
     "data": {
      "image/png": "[encoded data removed]",
      "text/plain": [
       "<Figure size 576x432 with 1 Axes>"
      ]
     },
     "metadata": {
      "needs_background": "light"
     },
     "output_type": "display_data"
    }
   ],
   "source": [
    "plt.figure(figsize=(8, 6))\n",
    "splot=sns.barplot(x=\"fuelType\",y=\"% of cars\",data=df_fuelType,color=\"g\",alpha=0.7)\n",
    "for p in splot.patches:\n",
    "    splot.annotate(format(p.get_height(), '.1f'), \n",
    "                   (p.get_x() + p.get_width() / 2., p.get_height()), \n",
    "                   ha = 'center', va = 'center', \n",
    "                   xytext = (0, 9), \n",
    "                   textcoords = 'offset points')\n",
    "plt.xlabel(\"Types of fuelTypes\")\n",
    "plt.ylabel(\"% of cars\")\n",
    "plt.title(\"Percentage of cars present in each fuelType\")\n",
    "plt.show()"
   ]
  },
  {
   "cell_type": "markdown",
   "metadata": {},
   "source": [
    " <br> **NOTE**: This visualization is better than pie chart, and we can deduce that hybrid and other fueltype is very negligible and almost zero compared to petrol and diesel fueltype."
   ]
  },
  {
   "cell_type": "markdown",
   "metadata": {},
   "source": [
    "### --- FINISH---"
   ]
  },
  {
   "cell_type": "code",
   "execution_count": null,
   "metadata": {},
   "outputs": [],
   "source": []
  }
 ],
 "metadata": {
  "colab": {
   "include_colab_link": true,
   "name": "Lecture_3.ipynb",
   "provenance": []
  },
  "kernelspec": {
   "display_name": "Python 3",
   "language": "python",
   "name": "python3"
  },
  "language_info": {
   "codemirror_mode": {
    "name": "ipython",
    "version": 3
   },
   "file_extension": ".py",
   "mimetype": "text/x-python",
   "name": "python",
   "nbconvert_exporter": "python",
   "pygments_lexer": "ipython3",
   "version": "3.8.8"
  }
 },
 "nbformat": 4,
 "nbformat_minor": 1
}
