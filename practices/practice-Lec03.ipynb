{
 "cells": [
  {
   "cell_type": "markdown",
   "id": "7db4f5b9",
   "metadata": {},
   "source": [
    "# bar plot"
   ]
  },
  {
   "cell_type": "code",
   "execution_count": 1,
   "id": "eedd9086",
   "metadata": {},
   "outputs": [],
   "source": [
    "import pandas as pd\n",
    "import numpy as np\n",
    "import matplotlib.pyplot as plt\n",
    "import seaborn as sns"
   ]
  },
  {
   "cell_type": "code",
   "execution_count": 2,
   "id": "fdb6a242",
   "metadata": {},
   "outputs": [
    {
     "data": {
      "text/html": [
       "<div>\n",
       "<style scoped>\n",
       "    .dataframe tbody tr th:only-of-type {\n",
       "        vertical-align: middle;\n",
       "    }\n",
       "\n",
       "    .dataframe tbody tr th {\n",
       "        vertical-align: top;\n",
       "    }\n",
       "\n",
       "    .dataframe thead th {\n",
       "        text-align: right;\n",
       "    }\n",
       "</style>\n",
       "<table border=\"1\" class=\"dataframe\">\n",
       "  <thead>\n",
       "    <tr style=\"text-align: right;\">\n",
       "      <th></th>\n",
       "      <th>model</th>\n",
       "      <th>year</th>\n",
       "      <th>price</th>\n",
       "      <th>transmission</th>\n",
       "      <th>mileage</th>\n",
       "      <th>fuelType</th>\n",
       "      <th>mpg</th>\n",
       "      <th>engineSize</th>\n",
       "    </tr>\n",
       "  </thead>\n",
       "  <tbody>\n",
       "    <tr>\n",
       "      <th>0</th>\n",
       "      <td>A1</td>\n",
       "      <td>2017</td>\n",
       "      <td>12500</td>\n",
       "      <td>Manual</td>\n",
       "      <td>15735</td>\n",
       "      <td>Petrol</td>\n",
       "      <td>55.4</td>\n",
       "      <td>1.4</td>\n",
       "    </tr>\n",
       "    <tr>\n",
       "      <th>1</th>\n",
       "      <td>A6</td>\n",
       "      <td>2016</td>\n",
       "      <td>16500</td>\n",
       "      <td>Automatic</td>\n",
       "      <td>36203</td>\n",
       "      <td>Diesel</td>\n",
       "      <td>64.2</td>\n",
       "      <td>2.0</td>\n",
       "    </tr>\n",
       "    <tr>\n",
       "      <th>2</th>\n",
       "      <td>A1</td>\n",
       "      <td>2016</td>\n",
       "      <td>11000</td>\n",
       "      <td>Manual</td>\n",
       "      <td>29946</td>\n",
       "      <td>Petrol</td>\n",
       "      <td>55.4</td>\n",
       "      <td>1.4</td>\n",
       "    </tr>\n",
       "    <tr>\n",
       "      <th>3</th>\n",
       "      <td>A4</td>\n",
       "      <td>2017</td>\n",
       "      <td>16800</td>\n",
       "      <td>Automatic</td>\n",
       "      <td>25952</td>\n",
       "      <td>Diesel</td>\n",
       "      <td>67.3</td>\n",
       "      <td>2.0</td>\n",
       "    </tr>\n",
       "    <tr>\n",
       "      <th>4</th>\n",
       "      <td>A3</td>\n",
       "      <td>2019</td>\n",
       "      <td>17300</td>\n",
       "      <td>Manual</td>\n",
       "      <td>1998</td>\n",
       "      <td>Petrol</td>\n",
       "      <td>49.6</td>\n",
       "      <td>1.0</td>\n",
       "    </tr>\n",
       "  </tbody>\n",
       "</table>\n",
       "</div>"
      ],
      "text/plain": [
       "  model  year  price transmission  mileage fuelType   mpg  engineSize\n",
       "0    A1  2017  12500       Manual    15735   Petrol  55.4         1.4\n",
       "1    A6  2016  16500    Automatic    36203   Diesel  64.2         2.0\n",
       "2    A1  2016  11000       Manual    29946   Petrol  55.4         1.4\n",
       "3    A4  2017  16800    Automatic    25952   Diesel  67.3         2.0\n",
       "4    A3  2019  17300       Manual     1998   Petrol  49.6         1.0"
      ]
     },
     "metadata": {},
     "output_type": "display_data"
    },
    {
     "data": {
      "text/plain": [
       "(10668, 8)"
      ]
     },
     "metadata": {},
     "output_type": "display_data"
    }
   ],
   "source": [
    "df=pd.read_csv('audi.csv')\n",
    "display(df.head())\n",
    "display(df.shape)"
   ]
  },
  {
   "cell_type": "code",
   "execution_count": 3,
   "id": "431bd1d8",
   "metadata": {},
   "outputs": [
    {
     "name": "stdout",
     "output_type": "stream",
     "text": [
      "<class 'pandas.core.frame.DataFrame'>\n",
      "RangeIndex: 10668 entries, 0 to 10667\n",
      "Data columns (total 8 columns):\n",
      " #   Column        Non-Null Count  Dtype  \n",
      "---  ------        --------------  -----  \n",
      " 0   model         10668 non-null  object \n",
      " 1   year          10668 non-null  int64  \n",
      " 2   price         10668 non-null  int64  \n",
      " 3   transmission  10668 non-null  object \n",
      " 4   mileage       10668 non-null  int64  \n",
      " 5   fuelType      10668 non-null  object \n",
      " 6   mpg           10668 non-null  float64\n",
      " 7   engineSize    10668 non-null  float64\n",
      "dtypes: float64(2), int64(3), object(3)\n",
      "memory usage: 666.9+ KB\n"
     ]
    },
    {
     "data": {
      "text/plain": [
       "None"
      ]
     },
     "metadata": {},
     "output_type": "display_data"
    }
   ],
   "source": [
    "display(df.info())"
   ]
  },
  {
   "cell_type": "markdown",
   "id": "8267daae",
   "metadata": {},
   "source": [
    "### count unique valus-year column"
   ]
  },
  {
   "cell_type": "code",
   "execution_count": 4,
   "id": "33ef9e6a",
   "metadata": {},
   "outputs": [
    {
     "data": {
      "text/plain": [
       "2019    3197\n",
       "2016    1964\n",
       "2017    1935\n",
       "2015     999\n",
       "2018     864\n",
       "2020     716\n",
       "2014     447\n",
       "2013     291\n",
       "2012      85\n",
       "2011      47\n",
       "2010      32\n",
       "2009      23\n",
       "2008      21\n",
       "2007      16\n",
       "2006       9\n",
       "2005       7\n",
       "2003       6\n",
       "2004       5\n",
       "2002       2\n",
       "1997       1\n",
       "1998       1\n",
       "Name: year, dtype: int64"
      ]
     },
     "metadata": {},
     "output_type": "display_data"
    }
   ],
   "source": [
    "year_count=df['year'].value_counts()\n",
    "display(year_count)"
   ]
  },
  {
   "cell_type": "markdown",
   "id": "3a6110cf",
   "metadata": {},
   "source": [
    "### count unique valus-'model' column"
   ]
  },
  {
   "cell_type": "code",
   "execution_count": 5,
   "id": "ca89c5a9",
   "metadata": {},
   "outputs": [
    {
     "data": {
      "text/plain": [
       " A3     1929\n",
       " Q3     1417\n",
       " A4     1381\n",
       " A1     1347\n",
       " A5      882\n",
       " Q5      877\n",
       " Q2      822\n",
       " A6      748\n",
       " Q7      397\n",
       " TT      336\n",
       " A7      122\n",
       " A8      118\n",
       " Q8       69\n",
       " RS6      39\n",
       " RS3      33\n",
       " RS4      31\n",
       " RS5      29\n",
       " R8       28\n",
       " S3       18\n",
       " SQ5      16\n",
       " S4       12\n",
       " SQ7       8\n",
       " S8        4\n",
       " S5        3\n",
       " RS7       1\n",
       " A2        1\n",
       "Name: model, dtype: int64"
      ]
     },
     "metadata": {},
     "output_type": "display_data"
    }
   ],
   "source": [
    "model_count=df['model'].value_counts()\n",
    "display(model_count)"
   ]
  },
  {
   "cell_type": "markdown",
   "id": "a47564ef",
   "metadata": {},
   "source": [
    "### count unique valus-'transmission' column"
   ]
  },
  {
   "cell_type": "code",
   "execution_count": 6,
   "id": "436e8e21",
   "metadata": {},
   "outputs": [
    {
     "data": {
      "text/plain": [
       "Manual       4369\n",
       "Semi-Auto    3591\n",
       "Automatic    2708\n",
       "Name: transmission, dtype: int64"
      ]
     },
     "metadata": {},
     "output_type": "display_data"
    }
   ],
   "source": [
    "transmission_count=df['transmission'].value_counts()\n",
    "display(transmission_count)"
   ]
  },
  {
   "cell_type": "markdown",
   "id": "6e66d773",
   "metadata": {},
   "source": [
    "### count unique valus-'fuelType' column"
   ]
  },
  {
   "cell_type": "code",
   "execution_count": 7,
   "id": "fa48f73a",
   "metadata": {},
   "outputs": [
    {
     "data": {
      "text/plain": [
       "Diesel    5577\n",
       "Petrol    5063\n",
       "Hybrid      28\n",
       "Name: fuelType, dtype: int64"
      ]
     },
     "metadata": {},
     "output_type": "display_data"
    }
   ],
   "source": [
    "fuelType_count=df['fuelType'].value_counts()\n",
    "display(fuelType_count)"
   ]
  },
  {
   "cell_type": "markdown",
   "id": "4ed4770d",
   "metadata": {},
   "source": [
    "### Percentage of unique values in 'model' column"
   ]
  },
  {
   "cell_type": "code",
   "execution_count": 38,
   "id": "1432bf17",
   "metadata": {},
   "outputs": [
    {
     "data": {
      "text/html": [
       "<div>\n",
       "<style scoped>\n",
       "    .dataframe tbody tr th:only-of-type {\n",
       "        vertical-align: middle;\n",
       "    }\n",
       "\n",
       "    .dataframe tbody tr th {\n",
       "        vertical-align: top;\n",
       "    }\n",
       "\n",
       "    .dataframe thead th {\n",
       "        text-align: right;\n",
       "    }\n",
       "</style>\n",
       "<table border=\"1\" class=\"dataframe\">\n",
       "  <thead>\n",
       "    <tr style=\"text-align: right;\">\n",
       "      <th></th>\n",
       "      <th>Model</th>\n",
       "      <th>No_of_cars</th>\n",
       "      <th>% of cars</th>\n",
       "    </tr>\n",
       "  </thead>\n",
       "  <tbody>\n",
       "    <tr>\n",
       "      <th>0</th>\n",
       "      <td>A3</td>\n",
       "      <td>1929</td>\n",
       "      <td>18.0</td>\n",
       "    </tr>\n",
       "    <tr>\n",
       "      <th>1</th>\n",
       "      <td>Q3</td>\n",
       "      <td>1417</td>\n",
       "      <td>13.0</td>\n",
       "    </tr>\n",
       "    <tr>\n",
       "      <th>2</th>\n",
       "      <td>A4</td>\n",
       "      <td>1381</td>\n",
       "      <td>13.0</td>\n",
       "    </tr>\n",
       "    <tr>\n",
       "      <th>3</th>\n",
       "      <td>A1</td>\n",
       "      <td>1347</td>\n",
       "      <td>13.0</td>\n",
       "    </tr>\n",
       "    <tr>\n",
       "      <th>4</th>\n",
       "      <td>A5</td>\n",
       "      <td>882</td>\n",
       "      <td>8.0</td>\n",
       "    </tr>\n",
       "  </tbody>\n",
       "</table>\n",
       "</div>"
      ],
      "text/plain": [
       "  Model  No_of_cars  % of cars\n",
       "0    A3        1929       18.0\n",
       "1    Q3        1417       13.0\n",
       "2    A4        1381       13.0\n",
       "3    A1        1347       13.0\n",
       "4    A5         882        8.0"
      ]
     },
     "metadata": {},
     "output_type": "display_data"
    }
   ],
   "source": [
    "df=pd.read_csv('audi.csv')\n",
    "model_count=df['model'].value_counts() \n",
    "#type(model_count)# pandas series data\n",
    "model_count=pd.DataFrame(model_count) #convert to dataframe\n",
    "#type(model_count)# converted to pandas dataframe\n",
    "#display(model_count)#shows index problem\n",
    "model_count=model_count.reset_index()\n",
    "#display(model_count)#still problem\n",
    "model_count=model_count.rename(columns={'index':'Model', 'model':'No_of_cars'})\n",
    "#display(model_count.head())\n",
    "model_count['% of cars']=np.round(((model_count['No_of_cars']/model_count['No_of_cars'].sum())*100))\n",
    "display(model_count.head())"
   ]
  },
  {
   "cell_type": "markdown",
   "id": "1194c827",
   "metadata": {},
   "source": [
    "### Bar plot for \"year\""
   ]
  },
  {
   "cell_type": "code",
   "execution_count": 66,
   "id": "127322a0",
   "metadata": {},
   "outputs": [
    {
     "data": {
      "image/png": "[encoded data removed]",
      "text/plain": [
       "<Figure size 432x288 with 1 Axes>"
      ]
     },
     "metadata": {
      "needs_background": "light"
     },
     "output_type": "display_data"
    },
    {
     "data": {
      "text/plain": [
       "<Figure size 360x720 with 0 Axes>"
      ]
     },
     "metadata": {},
     "output_type": "display_data"
    }
   ],
   "source": [
    "sns.barplot(x='Model',y='No_of_cars',data=model_count,color='red',alpha=1)\n",
    "plt.title('Number of cars for each model')\n",
    "plt.xlabel('Car Models')\n",
    "plt.ylabel('No. of cars')\n",
    "plt.xticks(rotation=90)\n",
    "plt.show()"
   ]
  },
  {
   "cell_type": "markdown",
   "id": "a7928188",
   "metadata": {},
   "source": [
    "### Percentage of unique values in 'fuelType' column"
   ]
  },
  {
   "cell_type": "code",
   "execution_count": 57,
   "id": "f3915001",
   "metadata": {},
   "outputs": [
    {
     "data": {
      "text/html": [
       "<div>\n",
       "<style scoped>\n",
       "    .dataframe tbody tr th:only-of-type {\n",
       "        vertical-align: middle;\n",
       "    }\n",
       "\n",
       "    .dataframe tbody tr th {\n",
       "        vertical-align: top;\n",
       "    }\n",
       "\n",
       "    .dataframe thead th {\n",
       "        text-align: right;\n",
       "    }\n",
       "</style>\n",
       "<table border=\"1\" class=\"dataframe\">\n",
       "  <thead>\n",
       "    <tr style=\"text-align: right;\">\n",
       "      <th></th>\n",
       "      <th>fuelType</th>\n",
       "      <th>No_of_cars</th>\n",
       "      <th>% of cars</th>\n",
       "    </tr>\n",
       "  </thead>\n",
       "  <tbody>\n",
       "    <tr>\n",
       "      <th>0</th>\n",
       "      <td>Diesel</td>\n",
       "      <td>5577</td>\n",
       "      <td>52.0</td>\n",
       "    </tr>\n",
       "    <tr>\n",
       "      <th>1</th>\n",
       "      <td>Petrol</td>\n",
       "      <td>5063</td>\n",
       "      <td>47.0</td>\n",
       "    </tr>\n",
       "    <tr>\n",
       "      <th>2</th>\n",
       "      <td>Hybrid</td>\n",
       "      <td>28</td>\n",
       "      <td>0.0</td>\n",
       "    </tr>\n",
       "  </tbody>\n",
       "</table>\n",
       "</div>"
      ],
      "text/plain": [
       "  fuelType  No_of_cars  % of cars\n",
       "0   Diesel        5577       52.0\n",
       "1   Petrol        5063       47.0\n",
       "2   Hybrid          28        0.0"
      ]
     },
     "metadata": {},
     "output_type": "display_data"
    }
   ],
   "source": [
    "df=pd.read_csv('audi.csv')\n",
    "fuelType_count=df['fuelType'].value_counts() \n",
    "#type(fuelType_count)# pandas series data\n",
    "fuelType_count=pd.DataFrame(fuelType_count) #convert to dataframe\n",
    "#type(fuelType_count)# converted to pandas dataframe\n",
    "#display(fuelType_count)#shows index problem\n",
    "fuelType_count=fuelType_count.reset_index()\n",
    "#display(fuelType_count)#still problem\n",
    "fuelType_count=fuelType_count.rename(columns={'index':'fuelType','fuelType':'No_of_cars'})\n",
    "#display(fuelType_count.head())\n",
    "fuelType_count['% of cars']=np.round(((fuelType_count['No_of_cars']/fuelType_count['No_of_cars'].sum())*100))\n",
    "display(fuelType_count.head())"
   ]
  },
  {
   "cell_type": "markdown",
   "id": "ce7b958e",
   "metadata": {},
   "source": [
    "### Bar plot for \"fuelType\""
   ]
  },
  {
   "cell_type": "code",
   "execution_count": 63,
   "id": "6b88df98",
   "metadata": {},
   "outputs": [
    {
     "data": {
      "image/png": "[encoded data removed]",
      "text/plain": [
       "<Figure size 432x288 with 1 Axes>"
      ]
     },
     "metadata": {
      "needs_background": "light"
     },
     "output_type": "display_data"
    }
   ],
   "source": [
    "sns.barplot(x='fuelType',y='No_of_cars',data=fuelType_count,color='purple',alpha=.5)\n",
    "plt.title('Number of cars for each fuelType')\n",
    "plt.xlabel('Car fuelTypes')\n",
    "plt.ylabel('No. of cars')\n",
    "plt.xticks(rotation=90)\n",
    "plt.show()"
   ]
  },
  {
   "cell_type": "markdown",
   "id": "1256c350",
   "metadata": {},
   "source": [
    "## plot all figures side by side"
   ]
  },
  {
   "cell_type": "code",
   "execution_count": null,
   "id": "d8d47c94",
   "metadata": {},
   "outputs": [],
   "source": []
  }
 ],
 "metadata": {
  "kernelspec": {
   "display_name": "Python 3",
   "language": "python",
   "name": "python3"
  },
  "language_info": {
   "codemirror_mode": {
    "name": "ipython",
    "version": 3
   },
   "file_extension": ".py",
   "mimetype": "text/x-python",
   "name": "python",
   "nbconvert_exporter": "python",
   "pygments_lexer": "ipython3",
   "version": "3.8.8"
  }
 },
 "nbformat": 4,
 "nbformat_minor": 5
}
