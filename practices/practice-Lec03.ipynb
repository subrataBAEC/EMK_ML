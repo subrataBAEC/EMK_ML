{
 "cells": [
  {
   "cell_type": "markdown",
   "id": "7db4f5b9",
   "metadata": {},
   "source": [
    "# bar plot-practice"
   ]
  },
  {
   "cell_type": "code",
   "execution_count": 1,
   "id": "eedd9086",
   "metadata": {},
   "outputs": [],
   "source": [
    "import pandas as pd\n",
    "import numpy as np\n",
    "import matplotlib.pyplot as plt\n",
    "import seaborn as sns"
   ]
  },
  {
   "cell_type": "code",
   "execution_count": 2,
   "id": "fdb6a242",
   "metadata": {},
   "outputs": [
    {
     "data": {
      "text/html": [
       "<div>\n",
       "<style scoped>\n",
       "    .dataframe tbody tr th:only-of-type {\n",
       "        vertical-align: middle;\n",
       "    }\n",
       "\n",
       "    .dataframe tbody tr th {\n",
       "        vertical-align: top;\n",
       "    }\n",
       "\n",
       "    .dataframe thead th {\n",
       "        text-align: right;\n",
       "    }\n",
       "</style>\n",
       "<table border=\"1\" class=\"dataframe\">\n",
       "  <thead>\n",
       "    <tr style=\"text-align: right;\">\n",
       "      <th></th>\n",
       "      <th>model</th>\n",
       "      <th>year</th>\n",
       "      <th>price</th>\n",
       "      <th>transmission</th>\n",
       "      <th>mileage</th>\n",
       "      <th>fuelType</th>\n",
       "      <th>mpg</th>\n",
       "      <th>engineSize</th>\n",
       "    </tr>\n",
       "  </thead>\n",
       "  <tbody>\n",
       "    <tr>\n",
       "      <th>0</th>\n",
       "      <td>A1</td>\n",
       "      <td>2017</td>\n",
       "      <td>12500</td>\n",
       "      <td>Manual</td>\n",
       "      <td>15735</td>\n",
       "      <td>Petrol</td>\n",
       "      <td>55.4</td>\n",
       "      <td>1.4</td>\n",
       "    </tr>\n",
       "    <tr>\n",
       "      <th>1</th>\n",
       "      <td>A6</td>\n",
       "      <td>2016</td>\n",
       "      <td>16500</td>\n",
       "      <td>Automatic</td>\n",
       "      <td>36203</td>\n",
       "      <td>Diesel</td>\n",
       "      <td>64.2</td>\n",
       "      <td>2.0</td>\n",
       "    </tr>\n",
       "    <tr>\n",
       "      <th>2</th>\n",
       "      <td>A1</td>\n",
       "      <td>2016</td>\n",
       "      <td>11000</td>\n",
       "      <td>Manual</td>\n",
       "      <td>29946</td>\n",
       "      <td>Petrol</td>\n",
       "      <td>55.4</td>\n",
       "      <td>1.4</td>\n",
       "    </tr>\n",
       "    <tr>\n",
       "      <th>3</th>\n",
       "      <td>A4</td>\n",
       "      <td>2017</td>\n",
       "      <td>16800</td>\n",
       "      <td>Automatic</td>\n",
       "      <td>25952</td>\n",
       "      <td>Diesel</td>\n",
       "      <td>67.3</td>\n",
       "      <td>2.0</td>\n",
       "    </tr>\n",
       "    <tr>\n",
       "      <th>4</th>\n",
       "      <td>A3</td>\n",
       "      <td>2019</td>\n",
       "      <td>17300</td>\n",
       "      <td>Manual</td>\n",
       "      <td>1998</td>\n",
       "      <td>Petrol</td>\n",
       "      <td>49.6</td>\n",
       "      <td>1.0</td>\n",
       "    </tr>\n",
       "  </tbody>\n",
       "</table>\n",
       "</div>"
      ],
      "text/plain": [
       "  model  year  price transmission  mileage fuelType   mpg  engineSize\n",
       "0    A1  2017  12500       Manual    15735   Petrol  55.4         1.4\n",
       "1    A6  2016  16500    Automatic    36203   Diesel  64.2         2.0\n",
       "2    A1  2016  11000       Manual    29946   Petrol  55.4         1.4\n",
       "3    A4  2017  16800    Automatic    25952   Diesel  67.3         2.0\n",
       "4    A3  2019  17300       Manual     1998   Petrol  49.6         1.0"
      ]
     },
     "metadata": {},
     "output_type": "display_data"
    },
    {
     "data": {
      "text/plain": [
       "(10668, 8)"
      ]
     },
     "metadata": {},
     "output_type": "display_data"
    }
   ],
   "source": [
    "df=pd.read_csv('audi.csv')\n",
    "display(df.head())\n",
    "display(df.shape)"
   ]
  },
  {
   "cell_type": "code",
   "execution_count": 3,
   "id": "431bd1d8",
   "metadata": {},
   "outputs": [
    {
     "name": "stdout",
     "output_type": "stream",
     "text": [
      "<class 'pandas.core.frame.DataFrame'>\n",
      "RangeIndex: 10668 entries, 0 to 10667\n",
      "Data columns (total 8 columns):\n",
      " #   Column        Non-Null Count  Dtype  \n",
      "---  ------        --------------  -----  \n",
      " 0   model         10668 non-null  object \n",
      " 1   year          10668 non-null  int64  \n",
      " 2   price         10668 non-null  int64  \n",
      " 3   transmission  10668 non-null  object \n",
      " 4   mileage       10668 non-null  int64  \n",
      " 5   fuelType      10668 non-null  object \n",
      " 6   mpg           10668 non-null  float64\n",
      " 7   engineSize    10668 non-null  float64\n",
      "dtypes: float64(2), int64(3), object(3)\n",
      "memory usage: 666.9+ KB\n"
     ]
    },
    {
     "data": {
      "text/plain": [
       "None"
      ]
     },
     "metadata": {},
     "output_type": "display_data"
    }
   ],
   "source": [
    "display(df.info())"
   ]
  },
  {
   "cell_type": "markdown",
   "id": "8267daae",
   "metadata": {},
   "source": [
    "### 1.1 count unique valus-year column"
   ]
  },
  {
   "cell_type": "code",
   "execution_count": 4,
   "id": "33ef9e6a",
   "metadata": {},
   "outputs": [
    {
     "data": {
      "text/plain": [
       "2019    3197\n",
       "2016    1964\n",
       "2017    1935\n",
       "2015     999\n",
       "2018     864\n",
       "Name: year, dtype: int64"
      ]
     },
     "metadata": {},
     "output_type": "display_data"
    }
   ],
   "source": [
    "year_count=df['year'].value_counts()\n",
    "display(year_count.head())"
   ]
  },
  {
   "cell_type": "markdown",
   "id": "3a6110cf",
   "metadata": {},
   "source": [
    "### 1.2 count unique valus-'model' column"
   ]
  },
  {
   "cell_type": "code",
   "execution_count": 5,
   "id": "ca89c5a9",
   "metadata": {},
   "outputs": [
    {
     "data": {
      "text/plain": [
       " A3    1929\n",
       " Q3    1417\n",
       " A4    1381\n",
       " A1    1347\n",
       " A5     882\n",
       "Name: model, dtype: int64"
      ]
     },
     "metadata": {},
     "output_type": "display_data"
    }
   ],
   "source": [
    "model_count=df['model'].value_counts()\n",
    "display(model_count.head())"
   ]
  },
  {
   "cell_type": "markdown",
   "id": "a47564ef",
   "metadata": {},
   "source": [
    "### 1.3 count unique valus-'transmission' column"
   ]
  },
  {
   "cell_type": "code",
   "execution_count": 6,
   "id": "436e8e21",
   "metadata": {},
   "outputs": [
    {
     "data": {
      "text/plain": [
       "Manual       4369\n",
       "Semi-Auto    3591\n",
       "Automatic    2708\n",
       "Name: transmission, dtype: int64"
      ]
     },
     "metadata": {},
     "output_type": "display_data"
    }
   ],
   "source": [
    "transmission_count=df['transmission'].value_counts()\n",
    "display(transmission_count)"
   ]
  },
  {
   "cell_type": "markdown",
   "id": "6e66d773",
   "metadata": {},
   "source": [
    "### 1.4 count unique valus-'fuelType' column"
   ]
  },
  {
   "cell_type": "code",
   "execution_count": 7,
   "id": "fa48f73a",
   "metadata": {},
   "outputs": [
    {
     "data": {
      "text/plain": [
       "Diesel    5577\n",
       "Petrol    5063\n",
       "Hybrid      28\n",
       "Name: fuelType, dtype: int64"
      ]
     },
     "metadata": {},
     "output_type": "display_data"
    }
   ],
   "source": [
    "fuelType_count=df['fuelType'].value_counts()\n",
    "display(fuelType_count)"
   ]
  },
  {
   "cell_type": "markdown",
   "id": "4ed4770d",
   "metadata": {},
   "source": [
    "### 2.1 Percentage of unique values and bar plot -in 'model' column"
   ]
  },
  {
   "cell_type": "code",
   "execution_count": 8,
   "id": "1432bf17",
   "metadata": {},
   "outputs": [
    {
     "data": {
      "text/html": [
       "<div>\n",
       "<style scoped>\n",
       "    .dataframe tbody tr th:only-of-type {\n",
       "        vertical-align: middle;\n",
       "    }\n",
       "\n",
       "    .dataframe tbody tr th {\n",
       "        vertical-align: top;\n",
       "    }\n",
       "\n",
       "    .dataframe thead th {\n",
       "        text-align: right;\n",
       "    }\n",
       "</style>\n",
       "<table border=\"1\" class=\"dataframe\">\n",
       "  <thead>\n",
       "    <tr style=\"text-align: right;\">\n",
       "      <th></th>\n",
       "      <th>Model</th>\n",
       "      <th>No_of_cars</th>\n",
       "      <th>% of cars</th>\n",
       "    </tr>\n",
       "  </thead>\n",
       "  <tbody>\n",
       "    <tr>\n",
       "      <th>0</th>\n",
       "      <td>A3</td>\n",
       "      <td>1929</td>\n",
       "      <td>18.082</td>\n",
       "    </tr>\n",
       "    <tr>\n",
       "      <th>1</th>\n",
       "      <td>Q3</td>\n",
       "      <td>1417</td>\n",
       "      <td>13.283</td>\n",
       "    </tr>\n",
       "    <tr>\n",
       "      <th>2</th>\n",
       "      <td>A4</td>\n",
       "      <td>1381</td>\n",
       "      <td>12.945</td>\n",
       "    </tr>\n",
       "    <tr>\n",
       "      <th>3</th>\n",
       "      <td>A1</td>\n",
       "      <td>1347</td>\n",
       "      <td>12.627</td>\n",
       "    </tr>\n",
       "    <tr>\n",
       "      <th>4</th>\n",
       "      <td>A5</td>\n",
       "      <td>882</td>\n",
       "      <td>8.268</td>\n",
       "    </tr>\n",
       "  </tbody>\n",
       "</table>\n",
       "</div>"
      ],
      "text/plain": [
       "  Model  No_of_cars  % of cars\n",
       "0    A3        1929     18.082\n",
       "1    Q3        1417     13.283\n",
       "2    A4        1381     12.945\n",
       "3    A1        1347     12.627\n",
       "4    A5         882      8.268"
      ]
     },
     "metadata": {},
     "output_type": "display_data"
    }
   ],
   "source": [
    "df=pd.read_csv('audi.csv')\n",
    "model_count=df['model'].value_counts() \n",
    "#type(model_count)# pandas series data\n",
    "model_count=pd.DataFrame(model_count) #convert to dataframe\n",
    "#type(model_count)# converted to pandas dataframe\n",
    "#display(model_count)#shows index problem\n",
    "model_count=model_count.reset_index()\n",
    "#display(model_count)#still problem\n",
    "model_count=model_count.rename(columns={'index':'Model', 'model':'No_of_cars'})\n",
    "#display(model_count.head())\n",
    "model_count['% of cars']=np.round(((model_count['No_of_cars']/model_count['No_of_cars'].sum())*100),3) # shows 2 valus after decimal\n",
    "display(model_count.head())"
   ]
  },
  {
   "cell_type": "markdown",
   "id": "1194c827",
   "metadata": {},
   "source": [
    "### Bar plot for \"model\""
   ]
  },
  {
   "cell_type": "code",
   "execution_count": 9,
   "id": "127322a0",
   "metadata": {},
   "outputs": [
    {
     "data": {
      "image/png": "[encoded data removed]",
      "text/plain": [
       "<Figure size 432x288 with 1 Axes>"
      ]
     },
     "metadata": {
      "needs_background": "light"
     },
     "output_type": "display_data"
    }
   ],
   "source": [
    "sns.barplot(x='Model',y='No_of_cars',data=model_count,color='red',alpha=1)\n",
    "plt.title('Number of cars for each model')\n",
    "plt.xlabel('Car Models')\n",
    "plt.ylabel('No. of cars')\n",
    "plt.xticks(rotation=90)\n",
    "plt.yticks(np.arange(0,2001,200)) #0 to 2000 with 200 step\n",
    "plt.show()"
   ]
  },
  {
   "cell_type": "markdown",
   "id": "a7928188",
   "metadata": {},
   "source": [
    "### 2.2 Percentage of unique values and bar plot -in 'fuelType' column "
   ]
  },
  {
   "cell_type": "code",
   "execution_count": 10,
   "id": "f3915001",
   "metadata": {},
   "outputs": [
    {
     "data": {
      "text/html": [
       "<div>\n",
       "<style scoped>\n",
       "    .dataframe tbody tr th:only-of-type {\n",
       "        vertical-align: middle;\n",
       "    }\n",
       "\n",
       "    .dataframe tbody tr th {\n",
       "        vertical-align: top;\n",
       "    }\n",
       "\n",
       "    .dataframe thead th {\n",
       "        text-align: right;\n",
       "    }\n",
       "</style>\n",
       "<table border=\"1\" class=\"dataframe\">\n",
       "  <thead>\n",
       "    <tr style=\"text-align: right;\">\n",
       "      <th></th>\n",
       "      <th>fuelType</th>\n",
       "      <th>No_of_cars</th>\n",
       "      <th>% of cars</th>\n",
       "    </tr>\n",
       "  </thead>\n",
       "  <tbody>\n",
       "    <tr>\n",
       "      <th>0</th>\n",
       "      <td>Diesel</td>\n",
       "      <td>5577</td>\n",
       "      <td>52.0</td>\n",
       "    </tr>\n",
       "    <tr>\n",
       "      <th>1</th>\n",
       "      <td>Petrol</td>\n",
       "      <td>5063</td>\n",
       "      <td>47.0</td>\n",
       "    </tr>\n",
       "    <tr>\n",
       "      <th>2</th>\n",
       "      <td>Hybrid</td>\n",
       "      <td>28</td>\n",
       "      <td>0.0</td>\n",
       "    </tr>\n",
       "  </tbody>\n",
       "</table>\n",
       "</div>"
      ],
      "text/plain": [
       "  fuelType  No_of_cars  % of cars\n",
       "0   Diesel        5577       52.0\n",
       "1   Petrol        5063       47.0\n",
       "2   Hybrid          28        0.0"
      ]
     },
     "metadata": {},
     "output_type": "display_data"
    }
   ],
   "source": [
    "df=pd.read_csv('audi.csv')\n",
    "fuelType_count=df['fuelType'].value_counts() \n",
    "#type(fuelType_count)# pandas series data\n",
    "fuelType_count=pd.DataFrame(fuelType_count) #convert to dataframe\n",
    "#type(fuelType_count)# converted to pandas dataframe\n",
    "#display(fuelType_count)#shows index problem\n",
    "fuelType_count=fuelType_count.reset_index()\n",
    "#display(fuelType_count)#still problem\n",
    "fuelType_count=fuelType_count.rename(columns={'index':'fuelType','fuelType':'No_of_cars'})\n",
    "#display(fuelType_count.head())\n",
    "fuelType_count['% of cars']=np.round(((fuelType_count['No_of_cars']/fuelType_count['No_of_cars'].sum())*100))\n",
    "display(fuelType_count.head())"
   ]
  },
  {
   "cell_type": "markdown",
   "id": "ce7b958e",
   "metadata": {},
   "source": [
    "### Bar plot for \"fuelType\""
   ]
  },
  {
   "cell_type": "code",
   "execution_count": 11,
   "id": "6b88df98",
   "metadata": {},
   "outputs": [
    {
     "data": {
      "image/png": "[encoded data removed]",
      "text/plain": [
       "<Figure size 432x288 with 1 Axes>"
      ]
     },
     "metadata": {
      "needs_background": "light"
     },
     "output_type": "display_data"
    }
   ],
   "source": [
    "sns.barplot(x='fuelType',y='No_of_cars',data=fuelType_count,color='purple',alpha=.5)\n",
    "plt.title('Number of cars for each fuelType')\n",
    "plt.xlabel('Car fuelTypes')\n",
    "plt.ylabel('No. of cars')\n",
    "plt.xticks(rotation=0)\n",
    "plt.show()"
   ]
  },
  {
   "cell_type": "markdown",
   "id": "1256c350",
   "metadata": {},
   "source": [
    "### 2.3 Percentage of unique values and bar plot -in \"transmission' column"
   ]
  },
  {
   "cell_type": "code",
   "execution_count": 12,
   "id": "d8d47c94",
   "metadata": {},
   "outputs": [
    {
     "data": {
      "text/html": [
       "<div>\n",
       "<style scoped>\n",
       "    .dataframe tbody tr th:only-of-type {\n",
       "        vertical-align: middle;\n",
       "    }\n",
       "\n",
       "    .dataframe tbody tr th {\n",
       "        vertical-align: top;\n",
       "    }\n",
       "\n",
       "    .dataframe thead th {\n",
       "        text-align: right;\n",
       "    }\n",
       "</style>\n",
       "<table border=\"1\" class=\"dataframe\">\n",
       "  <thead>\n",
       "    <tr style=\"text-align: right;\">\n",
       "      <th></th>\n",
       "      <th>transmission</th>\n",
       "      <th>No_of_cars</th>\n",
       "      <th>% of cars</th>\n",
       "    </tr>\n",
       "  </thead>\n",
       "  <tbody>\n",
       "    <tr>\n",
       "      <th>0</th>\n",
       "      <td>Manual</td>\n",
       "      <td>4369</td>\n",
       "      <td>41.0</td>\n",
       "    </tr>\n",
       "    <tr>\n",
       "      <th>1</th>\n",
       "      <td>Semi-Auto</td>\n",
       "      <td>3591</td>\n",
       "      <td>34.0</td>\n",
       "    </tr>\n",
       "    <tr>\n",
       "      <th>2</th>\n",
       "      <td>Automatic</td>\n",
       "      <td>2708</td>\n",
       "      <td>25.0</td>\n",
       "    </tr>\n",
       "  </tbody>\n",
       "</table>\n",
       "</div>"
      ],
      "text/plain": [
       "  transmission  No_of_cars  % of cars\n",
       "0       Manual        4369       41.0\n",
       "1    Semi-Auto        3591       34.0\n",
       "2    Automatic        2708       25.0"
      ]
     },
     "metadata": {},
     "output_type": "display_data"
    }
   ],
   "source": [
    "df=pd.read_csv('audi.csv')\n",
    "transmission_count=df['transmission'].value_counts() \n",
    "#type(transmission_count)# pandas series data\n",
    "transmission_count=pd.DataFrame(transmission_count) #convert to dataframe\n",
    "#type(transmission_count)# converted to pandas dataframe\n",
    "#display(transmission_count)#shows index problem\n",
    "transmission_count=transmission_count.reset_index()\n",
    "#display(transmission_count)#still problem\n",
    "transmission_count=transmission_count.rename(columns={'index':'transmission','transmission':'No_of_cars'})\n",
    "#display(transmission_count.head())\n",
    "transmission_count['% of cars']=np.round(((transmission_count['No_of_cars']/transmission_count['No_of_cars'].sum())*100))\n",
    "display(transmission_count.head())"
   ]
  },
  {
   "cell_type": "markdown",
   "id": "fe7e73f0",
   "metadata": {},
   "source": [
    "### Bar plot for \"transmission\""
   ]
  },
  {
   "cell_type": "code",
   "execution_count": 13,
   "id": "b35eaa26",
   "metadata": {},
   "outputs": [
    {
     "data": {
      "image/png": "[encoded data removed]",
      "text/plain": [
       "<Figure size 432x288 with 1 Axes>"
      ]
     },
     "metadata": {
      "needs_background": "light"
     },
     "output_type": "display_data"
    }
   ],
   "source": [
    "sns.barplot(x='transmission',y='No_of_cars',data=transmission_count,color='black',alpha=.5)\n",
    "plt.title('Number of cars for each transmission')\n",
    "plt.xlabel('Car transmissions')\n",
    "plt.ylabel('No. of cars')\n",
    "plt.xticks(rotation=0)\n",
    "plt.yticks(rotation=0)\n",
    "plt.show()"
   ]
  },
  {
   "cell_type": "markdown",
   "id": "aa3d6ff2",
   "metadata": {},
   "source": [
    "### plot all side by side"
   ]
  },
  {
   "cell_type": "code",
   "execution_count": 14,
   "id": "cc7e712b",
   "metadata": {},
   "outputs": [
    {
     "data": {
      "image/png": "[encoded data removed]",
      "text/plain": [
       "<Figure size 1440x360 with 3 Axes>"
      ]
     },
     "metadata": {
      "needs_background": "light"
     },
     "output_type": "display_data"
    }
   ],
   "source": [
    "sns.set_context('paper')\n",
    "\n",
    "plt.figure(figsize=(20,5))\n",
    "\n",
    "plt.subplot(1,3,1)# row 1,column 3, position 1\n",
    "sns.barplot(x='Model',y='No_of_cars',data=model_count,color='red',alpha=1)\n",
    "plt.title('Number of cars for each model')\n",
    "plt.xlabel('Car Models')\n",
    "plt.ylabel('No. of cars')\n",
    "plt.xticks(rotation=90)\n",
    "plt.yticks(np.arange(0,2001,200).tolist())\n",
    "\n",
    "\n",
    "plt.subplot(1,3,2) # row 1,column 3, position 2\n",
    "sns.barplot(x='fuelType',y='No_of_cars',data=fuelType_count,color='purple',alpha=.5)\n",
    "plt.title('Number of cars for each fuelType')\n",
    "plt.xlabel('Car fuelTypes')\n",
    "plt.ylabel('No. of cars')\n",
    "plt.yticks(np.arange(0,6001,1000).tolist())\n",
    "\n",
    "plt.subplot(1,3,3) # row 1,column 3, position 3\n",
    "sns.barplot(x='transmission',y='No_of_cars',data=transmission_count,color='black',alpha=.5)\n",
    "plt.title('Number of cars for each transmission')\n",
    "plt.xlabel('Car transmissions')\n",
    "plt.ylabel('No. of cars')\n",
    "plt.xticks(rotation=0)\n",
    "plt.yticks(np.arange(0,5001,1000).tolist())\n",
    "\n",
    "plt.suptitle(\"Categorical variables in the Audi used cars dataset\")\n",
    "plt.tight_layout()\n",
    "plt.show()\n",
    "\n",
    "##fig.savefig('audi.pdf')"
   ]
  },
  {
   "cell_type": "markdown",
   "id": "d6c71d26",
   "metadata": {},
   "source": [
    "### Do all of these altogether using a fuction"
   ]
  },
  {
   "cell_type": "code",
   "execution_count": 15,
   "id": "897ea696",
   "metadata": {},
   "outputs": [],
   "source": [
    "#output=function_name(dataFrame,column)\n",
    "def unique_value_count(data,column):        \n",
    "    df_count=df[column].value_counts()\n",
    "    df_count=pd.DataFrame(df_count)\n",
    "    df_count=df_count.reset_index()\n",
    "    df_count=df_count.rename(columns={'index':column,column:'No_of_cars'})\n",
    "    avg=((df_count['No_of_cars']/df_count['No_of_cars'].sum())*100)\n",
    "    df_count['% of cars']=np.round((avg),3) \n",
    "    \n",
    "    return df_count\n",
    "\n",
    "\n"
   ]
  },
  {
   "cell_type": "code",
   "execution_count": 16,
   "id": "a50d011f",
   "metadata": {},
   "outputs": [],
   "source": [
    "#1\n",
    "model_count=unique_value_count(df,'model')\n",
    "#display(model_count.head())\n",
    "#2\n",
    "fueyType_count=unique_value_count(df,'fuelType')\n",
    "#display(fuelType_count.head())\n",
    "#3\n",
    "year_count=unique_value_count(df,'year')\n",
    "year_count.head(10) #problem is years are not sorted\n",
    "year_count=year_count.sort_values(by='year') #sort year according to year\n",
    "year_count.head(10)\n",
    "#4\n",
    "transmission_count=unique_value_count(df,'transmission')"
   ]
  },
  {
   "cell_type": "code",
   "execution_count": 24,
   "id": "f648fc34",
   "metadata": {},
   "outputs": [],
   "source": [
    "def barplot(data, col_x, color, rotation, yticks):\n",
    "    \n",
    "    sns.barplot(x=col_x,y='% of cars',data=data,color=color,alpha=1)\n",
    "    plt.title('% of cars vs '+ col_x)\n",
    "    plt.xlabel(col_x)\n",
    "    plt.ylabel('% of cars')\n",
    "    plt.xticks(rotation=rotation)\n",
    "    plt.yticks(yticks)"
   ]
  },
  {
   "cell_type": "code",
   "execution_count": 48,
   "id": "578bb025",
   "metadata": {},
   "outputs": [
    {
     "data": {
      "image/png": "[encoded data removed]",
      "text/plain": [
       "<Figure size 1080x720 with 4 Axes>"
      ]
     },
     "metadata": {
      "needs_background": "light"
     },
     "output_type": "display_data"
    },
    {
     "data": {
      "text/plain": [
       "<Figure size 432x288 with 0 Axes>"
      ]
     },
     "metadata": {},
     "output_type": "display_data"
    }
   ],
   "source": [
    "sns.set_context('talk')\n",
    "plt.figure(figsize=(15,10))\n",
    "\n",
    "plt.subplot(2,2,1)\n",
    "barplot(model_count,'model','red',90,np.arange(0,30,10))\n",
    "\n",
    "plt.subplot(2,2,2)\n",
    "barplot(fuelType_count,'fuelType','red',0,np.arange(0,70,10))\n",
    "\n",
    "plt.subplot(2,2,3)\n",
    "barplot(transmission_count, 'transmission', 'green', 0, np.arange(0,60,10))\n",
    "\n",
    "plt.subplot(2,2,4)\n",
    "barplot(year_count, 'year', 'red', 90, np.arange(0,50,10))\n",
    "\n",
    "# write the title for all the plots\n",
    "plt.suptitle(\"Categorical variables in the Audi used cars dataset\")\n",
    "\n",
    "# keep the individual plots separate from each other\n",
    "plt.tight_layout()\n",
    "\n",
    "# display the plots\n",
    "plt.show()\n",
    "plt.savefig('plt.pdf')"
   ]
  },
  {
   "cell_type": "code",
   "execution_count": null,
   "id": "c2637107",
   "metadata": {},
   "outputs": [],
   "source": []
  },
  {
   "cell_type": "code",
   "execution_count": null,
   "id": "436886eb",
   "metadata": {},
   "outputs": [],
   "source": []
  },
  {
   "cell_type": "code",
   "execution_count": null,
   "id": "8c6a586a",
   "metadata": {},
   "outputs": [],
   "source": []
  }
 ],
 "metadata": {
  "kernelspec": {
   "display_name": "Python 3",
   "language": "python",
   "name": "python3"
  },
  "language_info": {
   "codemirror_mode": {
    "name": "ipython",
    "version": 3
   },
   "file_extension": ".py",
   "mimetype": "text/x-python",
   "name": "python",
   "nbconvert_exporter": "python",
   "pygments_lexer": "ipython3",
   "version": "3.8.8"
  }
 },
 "nbformat": 4,
 "nbformat_minor": 5
}
